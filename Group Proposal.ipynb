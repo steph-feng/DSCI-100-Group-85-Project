{
 "cells": [
  {
   "cell_type": "markdown",
   "id": "ba3b183a-84ae-4b21-9d4c-04ce5da4521e",
   "metadata": {},
   "source": [
    "**DSCI 100: GROUP PROJECT PROPOSAL**"
   ]
  },
  {
   "cell_type": "markdown",
   "id": "86995e2a-8fcf-4c93-b262-8e0ed7ea6e3a",
   "metadata": {},
   "source": [
    "**I. Introduction**"
   ]
  },
  {
   "cell_type": "markdown",
   "id": "bb161d2f-9b65-451b-ab6b-009c8d41ba42",
   "metadata": {},
   "source": [
    "Provide some relevant background information on the topic so that someone unfamiliar with it will be prepared to understand the rest of your proposal\n",
    "\n",
    "Clearly state the question you will try to answer with your project\n",
    "\n",
    "Identify and describe the dataset that will be used to answer the question\n"
   ]
  },
  {
   "cell_type": "markdown",
   "id": "18969c96-ebd5-4724-8f82-3720c6b78e67",
   "metadata": {},
   "source": [
    "**II. Preliminary exploratory data analysis**"
   ]
  },
  {
   "cell_type": "markdown",
   "id": "4fecbd76-19cf-4b24-99c9-1d24cfdc6a2e",
   "metadata": {},
   "source": [
    "Demonstrate that the dataset can be read from the web into R \n",
    "\n",
    "Clean and wrangle your data into a tidy format\n",
    "\n",
    "Using only training data, summarize the data in at least one table (this is exploratory data analysis). \n",
    "\n",
    "An example of a useful table could be one that reports the number of observations in each class, the means of the predictor\n",
    "variables you plan to use in your analysis and how many rows have missing data. \n",
    "\n",
    "Using only training data, visualize the data with at least one plot relevant to the analysis you plan to do\n",
    "(this is exploratory data analysis). An example of a useful visualization could be one that compares the distributions of each of the predictor variables you plan to use in your analysis.\n"
   ]
  },
  {
   "cell_type": "code",
   "execution_count": 2,
   "id": "5070cdf8-0227-42a0-8ebe-ba1d0e43c414",
   "metadata": {},
   "outputs": [
    {
     "name": "stderr",
     "output_type": "stream",
     "text": [
      "── \u001b[1mAttaching packages\u001b[22m ────────────────────────────────────── tidymodels 1.0.0 ──\n",
      "\n",
      "\u001b[32m✔\u001b[39m \u001b[34mbroom       \u001b[39m 1.0.0     \u001b[32m✔\u001b[39m \u001b[34mrsample     \u001b[39m 1.0.0\n",
      "\u001b[32m✔\u001b[39m \u001b[34mdials       \u001b[39m 1.0.0     \u001b[32m✔\u001b[39m \u001b[34mtune        \u001b[39m 1.0.0\n",
      "\u001b[32m✔\u001b[39m \u001b[34minfer       \u001b[39m 1.0.2     \u001b[32m✔\u001b[39m \u001b[34mworkflows   \u001b[39m 1.0.0\n",
      "\u001b[32m✔\u001b[39m \u001b[34mmodeldata   \u001b[39m 1.0.0     \u001b[32m✔\u001b[39m \u001b[34mworkflowsets\u001b[39m 1.0.0\n",
      "\u001b[32m✔\u001b[39m \u001b[34mparsnip     \u001b[39m 1.0.0     \u001b[32m✔\u001b[39m \u001b[34myardstick   \u001b[39m 1.0.0\n",
      "\u001b[32m✔\u001b[39m \u001b[34mrecipes     \u001b[39m 1.0.1     \n",
      "\n",
      "── \u001b[1mConflicts\u001b[22m ───────────────────────────────────────── tidymodels_conflicts() ──\n",
      "\u001b[31m✖\u001b[39m \u001b[34mscales\u001b[39m::\u001b[32mdiscard()\u001b[39m masks \u001b[34mpurrr\u001b[39m::discard()\n",
      "\u001b[31m✖\u001b[39m \u001b[34mdplyr\u001b[39m::\u001b[32mfilter()\u001b[39m   masks \u001b[34mstats\u001b[39m::filter()\n",
      "\u001b[31m✖\u001b[39m \u001b[34mrecipes\u001b[39m::\u001b[32mfixed()\u001b[39m  masks \u001b[34mstringr\u001b[39m::fixed()\n",
      "\u001b[31m✖\u001b[39m \u001b[34mdplyr\u001b[39m::\u001b[32mlag()\u001b[39m      masks \u001b[34mstats\u001b[39m::lag()\n",
      "\u001b[31m✖\u001b[39m \u001b[34myardstick\u001b[39m::\u001b[32mspec()\u001b[39m masks \u001b[34mreadr\u001b[39m::spec()\n",
      "\u001b[31m✖\u001b[39m \u001b[34mrecipes\u001b[39m::\u001b[32mstep()\u001b[39m   masks \u001b[34mstats\u001b[39m::step()\n",
      "\u001b[34m•\u001b[39m Learn how to get started at \u001b[32mhttps://www.tidymodels.org/start/\u001b[39m\n",
      "\n"
     ]
    }
   ],
   "source": [
    "library(repr)\n",
    "library(tidyverse)\n",
    "library(tidymodels)\n",
    "options(repr.matrix.max.rows = 6)"
   ]
  },
  {
   "cell_type": "code",
   "execution_count": 4,
   "id": "b6745f6f-5042-4429-bef9-8d827f6c6528",
   "metadata": {},
   "outputs": [
    {
     "name": "stderr",
     "output_type": "stream",
     "text": [
      "\u001b[1mRows: \u001b[22m\u001b[34m30000\u001b[39m \u001b[1mColumns: \u001b[22m\u001b[34m25\u001b[39m\n",
      "\u001b[36m──\u001b[39m \u001b[1mColumn specification\u001b[22m \u001b[36m────────────────────────────────────────────────────────\u001b[39m\n",
      "\u001b[1mDelimiter:\u001b[22m \",\"\n",
      "\u001b[32mdbl\u001b[39m (25): ID, LIMIT_BAL, SEX, EDUCATION, MARRIAGE, AGE, PAY_0, PAY_2, PAY_3,...\n",
      "\n",
      "\u001b[36mℹ\u001b[39m Use `spec()` to retrieve the full column specification for this data.\n",
      "\u001b[36mℹ\u001b[39m Specify the column types or set `show_col_types = FALSE` to quiet this message.\n"
     ]
    },
    {
     "data": {
      "text/html": [
       "<table class=\"dataframe\">\n",
       "<caption>A spec_tbl_df: 30000 × 25</caption>\n",
       "<thead>\n",
       "\t<tr><th scope=col>ID</th><th scope=col>LIMIT_BAL</th><th scope=col>SEX</th><th scope=col>EDUCATION</th><th scope=col>MARRIAGE</th><th scope=col>AGE</th><th scope=col>PAY_0</th><th scope=col>PAY_2</th><th scope=col>PAY_3</th><th scope=col>PAY_4</th><th scope=col>⋯</th><th scope=col>BILL_AMT4</th><th scope=col>BILL_AMT5</th><th scope=col>BILL_AMT6</th><th scope=col>PAY_AMT1</th><th scope=col>PAY_AMT2</th><th scope=col>PAY_AMT3</th><th scope=col>PAY_AMT4</th><th scope=col>PAY_AMT5</th><th scope=col>PAY_AMT6</th><th scope=col>default payment next month</th></tr>\n",
       "\t<tr><th scope=col>&lt;dbl&gt;</th><th scope=col>&lt;dbl&gt;</th><th scope=col>&lt;dbl&gt;</th><th scope=col>&lt;dbl&gt;</th><th scope=col>&lt;dbl&gt;</th><th scope=col>&lt;dbl&gt;</th><th scope=col>&lt;dbl&gt;</th><th scope=col>&lt;dbl&gt;</th><th scope=col>&lt;dbl&gt;</th><th scope=col>&lt;dbl&gt;</th><th scope=col>⋯</th><th scope=col>&lt;dbl&gt;</th><th scope=col>&lt;dbl&gt;</th><th scope=col>&lt;dbl&gt;</th><th scope=col>&lt;dbl&gt;</th><th scope=col>&lt;dbl&gt;</th><th scope=col>&lt;dbl&gt;</th><th scope=col>&lt;dbl&gt;</th><th scope=col>&lt;dbl&gt;</th><th scope=col>&lt;dbl&gt;</th><th scope=col>&lt;dbl&gt;</th></tr>\n",
       "</thead>\n",
       "<tbody>\n",
       "\t<tr><td>1</td><td> 20000</td><td>2</td><td>2</td><td>1</td><td>24</td><td> 2</td><td>2</td><td>-1</td><td>-1</td><td>⋯</td><td>    0</td><td>    0</td><td>    0</td><td>   0</td><td> 689</td><td>   0</td><td>   0</td><td>   0</td><td>   0</td><td>1</td></tr>\n",
       "\t<tr><td>2</td><td>120000</td><td>2</td><td>2</td><td>2</td><td>26</td><td>-1</td><td>2</td><td> 0</td><td> 0</td><td>⋯</td><td> 3272</td><td> 3455</td><td> 3261</td><td>   0</td><td>1000</td><td>1000</td><td>1000</td><td>   0</td><td>2000</td><td>1</td></tr>\n",
       "\t<tr><td>3</td><td> 90000</td><td>2</td><td>2</td><td>2</td><td>34</td><td> 0</td><td>0</td><td> 0</td><td> 0</td><td>⋯</td><td>14331</td><td>14948</td><td>15549</td><td>1518</td><td>1500</td><td>1000</td><td>1000</td><td>1000</td><td>5000</td><td>0</td></tr>\n",
       "\t<tr><td>⋮</td><td>⋮</td><td>⋮</td><td>⋮</td><td>⋮</td><td>⋮</td><td>⋮</td><td>⋮</td><td>⋮</td><td>⋮</td><td>⋱</td><td>⋮</td><td>⋮</td><td>⋮</td><td>⋮</td><td>⋮</td><td>⋮</td><td>⋮</td><td>⋮</td><td>⋮</td><td>⋮</td></tr>\n",
       "\t<tr><td>29998</td><td>30000</td><td>1</td><td>2</td><td>2</td><td>37</td><td>4</td><td> 3</td><td>2</td><td>-1</td><td>⋯</td><td>20878</td><td>20582</td><td>19357</td><td>    0</td><td>   0</td><td>22000</td><td>4200</td><td> 2000</td><td>3100</td><td>1</td></tr>\n",
       "\t<tr><td>29999</td><td>80000</td><td>1</td><td>3</td><td>1</td><td>41</td><td>1</td><td>-1</td><td>0</td><td> 0</td><td>⋯</td><td>52774</td><td>11855</td><td>48944</td><td>85900</td><td>3409</td><td> 1178</td><td>1926</td><td>52964</td><td>1804</td><td>1</td></tr>\n",
       "\t<tr><td>30000</td><td>50000</td><td>1</td><td>2</td><td>1</td><td>46</td><td>0</td><td> 0</td><td>0</td><td> 0</td><td>⋯</td><td>36535</td><td>32428</td><td>15313</td><td> 2078</td><td>1800</td><td> 1430</td><td>1000</td><td> 1000</td><td>1000</td><td>1</td></tr>\n",
       "</tbody>\n",
       "</table>\n"
      ],
      "text/latex": [
       "A spec\\_tbl\\_df: 30000 × 25\n",
       "\\begin{tabular}{lllllllllllllllllllll}\n",
       " ID & LIMIT\\_BAL & SEX & EDUCATION & MARRIAGE & AGE & PAY\\_0 & PAY\\_2 & PAY\\_3 & PAY\\_4 & ⋯ & BILL\\_AMT4 & BILL\\_AMT5 & BILL\\_AMT6 & PAY\\_AMT1 & PAY\\_AMT2 & PAY\\_AMT3 & PAY\\_AMT4 & PAY\\_AMT5 & PAY\\_AMT6 & default payment next month\\\\\n",
       " <dbl> & <dbl> & <dbl> & <dbl> & <dbl> & <dbl> & <dbl> & <dbl> & <dbl> & <dbl> & ⋯ & <dbl> & <dbl> & <dbl> & <dbl> & <dbl> & <dbl> & <dbl> & <dbl> & <dbl> & <dbl>\\\\\n",
       "\\hline\n",
       "\t 1 &  20000 & 2 & 2 & 1 & 24 &  2 & 2 & -1 & -1 & ⋯ &     0 &     0 &     0 &    0 &  689 &    0 &    0 &    0 &    0 & 1\\\\\n",
       "\t 2 & 120000 & 2 & 2 & 2 & 26 & -1 & 2 &  0 &  0 & ⋯ &  3272 &  3455 &  3261 &    0 & 1000 & 1000 & 1000 &    0 & 2000 & 1\\\\\n",
       "\t 3 &  90000 & 2 & 2 & 2 & 34 &  0 & 0 &  0 &  0 & ⋯ & 14331 & 14948 & 15549 & 1518 & 1500 & 1000 & 1000 & 1000 & 5000 & 0\\\\\n",
       "\t ⋮ & ⋮ & ⋮ & ⋮ & ⋮ & ⋮ & ⋮ & ⋮ & ⋮ & ⋮ & ⋱ & ⋮ & ⋮ & ⋮ & ⋮ & ⋮ & ⋮ & ⋮ & ⋮ & ⋮ & ⋮\\\\\n",
       "\t 29998 & 30000 & 1 & 2 & 2 & 37 & 4 &  3 & 2 & -1 & ⋯ & 20878 & 20582 & 19357 &     0 &    0 & 22000 & 4200 &  2000 & 3100 & 1\\\\\n",
       "\t 29999 & 80000 & 1 & 3 & 1 & 41 & 1 & -1 & 0 &  0 & ⋯ & 52774 & 11855 & 48944 & 85900 & 3409 &  1178 & 1926 & 52964 & 1804 & 1\\\\\n",
       "\t 30000 & 50000 & 1 & 2 & 1 & 46 & 0 &  0 & 0 &  0 & ⋯ & 36535 & 32428 & 15313 &  2078 & 1800 &  1430 & 1000 &  1000 & 1000 & 1\\\\\n",
       "\\end{tabular}\n"
      ],
      "text/markdown": [
       "\n",
       "A spec_tbl_df: 30000 × 25\n",
       "\n",
       "| ID &lt;dbl&gt; | LIMIT_BAL &lt;dbl&gt; | SEX &lt;dbl&gt; | EDUCATION &lt;dbl&gt; | MARRIAGE &lt;dbl&gt; | AGE &lt;dbl&gt; | PAY_0 &lt;dbl&gt; | PAY_2 &lt;dbl&gt; | PAY_3 &lt;dbl&gt; | PAY_4 &lt;dbl&gt; | ⋯ ⋯ | BILL_AMT4 &lt;dbl&gt; | BILL_AMT5 &lt;dbl&gt; | BILL_AMT6 &lt;dbl&gt; | PAY_AMT1 &lt;dbl&gt; | PAY_AMT2 &lt;dbl&gt; | PAY_AMT3 &lt;dbl&gt; | PAY_AMT4 &lt;dbl&gt; | PAY_AMT5 &lt;dbl&gt; | PAY_AMT6 &lt;dbl&gt; | default payment next month &lt;dbl&gt; |\n",
       "|---|---|---|---|---|---|---|---|---|---|---|---|---|---|---|---|---|---|---|---|---|\n",
       "| 1 |  20000 | 2 | 2 | 1 | 24 |  2 | 2 | -1 | -1 | ⋯ |     0 |     0 |     0 |    0 |  689 |    0 |    0 |    0 |    0 | 1 |\n",
       "| 2 | 120000 | 2 | 2 | 2 | 26 | -1 | 2 |  0 |  0 | ⋯ |  3272 |  3455 |  3261 |    0 | 1000 | 1000 | 1000 |    0 | 2000 | 1 |\n",
       "| 3 |  90000 | 2 | 2 | 2 | 34 |  0 | 0 |  0 |  0 | ⋯ | 14331 | 14948 | 15549 | 1518 | 1500 | 1000 | 1000 | 1000 | 5000 | 0 |\n",
       "| ⋮ | ⋮ | ⋮ | ⋮ | ⋮ | ⋮ | ⋮ | ⋮ | ⋮ | ⋮ | ⋱ | ⋮ | ⋮ | ⋮ | ⋮ | ⋮ | ⋮ | ⋮ | ⋮ | ⋮ | ⋮ |\n",
       "| 29998 | 30000 | 1 | 2 | 2 | 37 | 4 |  3 | 2 | -1 | ⋯ | 20878 | 20582 | 19357 |     0 |    0 | 22000 | 4200 |  2000 | 3100 | 1 |\n",
       "| 29999 | 80000 | 1 | 3 | 1 | 41 | 1 | -1 | 0 |  0 | ⋯ | 52774 | 11855 | 48944 | 85900 | 3409 |  1178 | 1926 | 52964 | 1804 | 1 |\n",
       "| 30000 | 50000 | 1 | 2 | 1 | 46 | 0 |  0 | 0 |  0 | ⋯ | 36535 | 32428 | 15313 |  2078 | 1800 |  1430 | 1000 |  1000 | 1000 | 1 |\n",
       "\n"
      ],
      "text/plain": [
       "      ID    LIMIT_BAL SEX EDUCATION MARRIAGE AGE PAY_0 PAY_2 PAY_3 PAY_4 ⋯\n",
       "1     1      20000    2   2         1        24   2    2     -1    -1    ⋯\n",
       "2     2     120000    2   2         2        26  -1    2      0     0    ⋯\n",
       "3     3      90000    2   2         2        34   0    0      0     0    ⋯\n",
       "⋮     ⋮     ⋮         ⋮   ⋮         ⋮        ⋮   ⋮     ⋮     ⋮     ⋮     ⋱\n",
       "29998 29998 30000     1   2         2        37  4      3    2     -1    ⋯\n",
       "29999 29999 80000     1   3         1        41  1     -1    0      0    ⋯\n",
       "30000 30000 50000     1   2         1        46  0      0    0      0    ⋯\n",
       "      BILL_AMT4 BILL_AMT5 BILL_AMT6 PAY_AMT1 PAY_AMT2 PAY_AMT3 PAY_AMT4\n",
       "1         0         0         0        0      689        0        0    \n",
       "2      3272      3455      3261        0     1000     1000     1000    \n",
       "3     14331     14948     15549     1518     1500     1000     1000    \n",
       "⋮     ⋮         ⋮         ⋮         ⋮        ⋮        ⋮        ⋮       \n",
       "29998 20878     20582     19357         0       0     22000    4200    \n",
       "29999 52774     11855     48944     85900    3409      1178    1926    \n",
       "30000 36535     32428     15313      2078    1800      1430    1000    \n",
       "      PAY_AMT5 PAY_AMT6 default payment next month\n",
       "1        0        0     1                         \n",
       "2        0     2000     1                         \n",
       "3     1000     5000     0                         \n",
       "⋮     ⋮        ⋮        ⋮                         \n",
       "29998  2000    3100     1                         \n",
       "29999 52964    1804     1                         \n",
       "30000  1000    1000     1                         "
      ]
     },
     "metadata": {},
     "output_type": "display_data"
    }
   ],
   "source": [
    "credit_data<-read_csv('Dataset/default_of_credit_card_clients.csv', skip=1)\n",
    "credit_data"
   ]
  },
  {
   "cell_type": "code",
   "execution_count": 5,
   "id": "abfd9687-31da-46a1-a91f-b6b760546ab3",
   "metadata": {},
   "outputs": [
    {
     "name": "stderr",
     "output_type": "stream",
     "text": [
      "\u001b[1mRows: \u001b[22m\u001b[34m12330\u001b[39m \u001b[1mColumns: \u001b[22m\u001b[34m18\u001b[39m\n",
      "\u001b[36m──\u001b[39m \u001b[1mColumn specification\u001b[22m \u001b[36m────────────────────────────────────────────────────────\u001b[39m\n",
      "\u001b[1mDelimiter:\u001b[22m \",\"\n",
      "\u001b[31mchr\u001b[39m  (2): Month, VisitorType\n",
      "\u001b[32mdbl\u001b[39m (14): Administrative, Administrative_Duration, Informational, Informatio...\n",
      "\u001b[33mlgl\u001b[39m  (2): Weekend, Revenue\n",
      "\n",
      "\u001b[36mℹ\u001b[39m Use `spec()` to retrieve the full column specification for this data.\n",
      "\u001b[36mℹ\u001b[39m Specify the column types or set `show_col_types = FALSE` to quiet this message.\n"
     ]
    },
    {
     "data": {
      "text/html": [
       "<table class=\"dataframe\">\n",
       "<caption>A spec_tbl_df: 12330 × 18</caption>\n",
       "<thead>\n",
       "\t<tr><th scope=col>Administrative</th><th scope=col>Administrative_Duration</th><th scope=col>Informational</th><th scope=col>Informational_Duration</th><th scope=col>ProductRelated</th><th scope=col>ProductRelated_Duration</th><th scope=col>BounceRates</th><th scope=col>ExitRates</th><th scope=col>PageValues</th><th scope=col>SpecialDay</th><th scope=col>Month</th><th scope=col>OperatingSystems</th><th scope=col>Browser</th><th scope=col>Region</th><th scope=col>TrafficType</th><th scope=col>VisitorType</th><th scope=col>Weekend</th><th scope=col>Revenue</th></tr>\n",
       "\t<tr><th scope=col>&lt;dbl&gt;</th><th scope=col>&lt;dbl&gt;</th><th scope=col>&lt;dbl&gt;</th><th scope=col>&lt;dbl&gt;</th><th scope=col>&lt;dbl&gt;</th><th scope=col>&lt;dbl&gt;</th><th scope=col>&lt;dbl&gt;</th><th scope=col>&lt;dbl&gt;</th><th scope=col>&lt;dbl&gt;</th><th scope=col>&lt;dbl&gt;</th><th scope=col>&lt;chr&gt;</th><th scope=col>&lt;dbl&gt;</th><th scope=col>&lt;dbl&gt;</th><th scope=col>&lt;dbl&gt;</th><th scope=col>&lt;dbl&gt;</th><th scope=col>&lt;chr&gt;</th><th scope=col>&lt;lgl&gt;</th><th scope=col>&lt;lgl&gt;</th></tr>\n",
       "</thead>\n",
       "<tbody>\n",
       "\t<tr><td>0</td><td>0</td><td>0</td><td>0</td><td>1</td><td> 0</td><td>0.2</td><td>0.2</td><td>0</td><td>0</td><td>Feb</td><td>1</td><td>1</td><td>1</td><td>1</td><td>Returning_Visitor</td><td>FALSE</td><td>FALSE</td></tr>\n",
       "\t<tr><td>0</td><td>0</td><td>0</td><td>0</td><td>2</td><td>64</td><td>0.0</td><td>0.1</td><td>0</td><td>0</td><td>Feb</td><td>2</td><td>2</td><td>1</td><td>2</td><td>Returning_Visitor</td><td>FALSE</td><td>FALSE</td></tr>\n",
       "\t<tr><td>0</td><td>0</td><td>0</td><td>0</td><td>1</td><td> 0</td><td>0.2</td><td>0.2</td><td>0</td><td>0</td><td>Feb</td><td>4</td><td>1</td><td>9</td><td>3</td><td>Returning_Visitor</td><td>FALSE</td><td>FALSE</td></tr>\n",
       "\t<tr><td>⋮</td><td>⋮</td><td>⋮</td><td>⋮</td><td>⋮</td><td>⋮</td><td>⋮</td><td>⋮</td><td>⋮</td><td>⋮</td><td>⋮</td><td>⋮</td><td>⋮</td><td>⋮</td><td>⋮</td><td>⋮</td><td>⋮</td><td>⋮</td></tr>\n",
       "\t<tr><td>0</td><td> 0</td><td>0</td><td>0</td><td> 6</td><td>184.25</td><td>0.08333333</td><td>0.08666667</td><td>0</td><td>0</td><td>Nov</td><td>3</td><td>2</td><td>1</td><td>13</td><td>Returning_Visitor</td><td> TRUE</td><td>FALSE</td></tr>\n",
       "\t<tr><td>4</td><td>75</td><td>0</td><td>0</td><td>15</td><td>346.00</td><td>0.00000000</td><td>0.02105263</td><td>0</td><td>0</td><td>Nov</td><td>2</td><td>2</td><td>3</td><td>11</td><td>Returning_Visitor</td><td>FALSE</td><td>FALSE</td></tr>\n",
       "\t<tr><td>0</td><td> 0</td><td>0</td><td>0</td><td> 3</td><td> 21.25</td><td>0.00000000</td><td>0.06666667</td><td>0</td><td>0</td><td>Nov</td><td>3</td><td>2</td><td>1</td><td> 2</td><td>New_Visitor      </td><td> TRUE</td><td>FALSE</td></tr>\n",
       "</tbody>\n",
       "</table>\n"
      ],
      "text/latex": [
       "A spec\\_tbl\\_df: 12330 × 18\n",
       "\\begin{tabular}{llllllllllllllllll}\n",
       " Administrative & Administrative\\_Duration & Informational & Informational\\_Duration & ProductRelated & ProductRelated\\_Duration & BounceRates & ExitRates & PageValues & SpecialDay & Month & OperatingSystems & Browser & Region & TrafficType & VisitorType & Weekend & Revenue\\\\\n",
       " <dbl> & <dbl> & <dbl> & <dbl> & <dbl> & <dbl> & <dbl> & <dbl> & <dbl> & <dbl> & <chr> & <dbl> & <dbl> & <dbl> & <dbl> & <chr> & <lgl> & <lgl>\\\\\n",
       "\\hline\n",
       "\t 0 & 0 & 0 & 0 & 1 &  0 & 0.2 & 0.2 & 0 & 0 & Feb & 1 & 1 & 1 & 1 & Returning\\_Visitor & FALSE & FALSE\\\\\n",
       "\t 0 & 0 & 0 & 0 & 2 & 64 & 0.0 & 0.1 & 0 & 0 & Feb & 2 & 2 & 1 & 2 & Returning\\_Visitor & FALSE & FALSE\\\\\n",
       "\t 0 & 0 & 0 & 0 & 1 &  0 & 0.2 & 0.2 & 0 & 0 & Feb & 4 & 1 & 9 & 3 & Returning\\_Visitor & FALSE & FALSE\\\\\n",
       "\t ⋮ & ⋮ & ⋮ & ⋮ & ⋮ & ⋮ & ⋮ & ⋮ & ⋮ & ⋮ & ⋮ & ⋮ & ⋮ & ⋮ & ⋮ & ⋮ & ⋮ & ⋮\\\\\n",
       "\t 0 &  0 & 0 & 0 &  6 & 184.25 & 0.08333333 & 0.08666667 & 0 & 0 & Nov & 3 & 2 & 1 & 13 & Returning\\_Visitor &  TRUE & FALSE\\\\\n",
       "\t 4 & 75 & 0 & 0 & 15 & 346.00 & 0.00000000 & 0.02105263 & 0 & 0 & Nov & 2 & 2 & 3 & 11 & Returning\\_Visitor & FALSE & FALSE\\\\\n",
       "\t 0 &  0 & 0 & 0 &  3 &  21.25 & 0.00000000 & 0.06666667 & 0 & 0 & Nov & 3 & 2 & 1 &  2 & New\\_Visitor       &  TRUE & FALSE\\\\\n",
       "\\end{tabular}\n"
      ],
      "text/markdown": [
       "\n",
       "A spec_tbl_df: 12330 × 18\n",
       "\n",
       "| Administrative &lt;dbl&gt; | Administrative_Duration &lt;dbl&gt; | Informational &lt;dbl&gt; | Informational_Duration &lt;dbl&gt; | ProductRelated &lt;dbl&gt; | ProductRelated_Duration &lt;dbl&gt; | BounceRates &lt;dbl&gt; | ExitRates &lt;dbl&gt; | PageValues &lt;dbl&gt; | SpecialDay &lt;dbl&gt; | Month &lt;chr&gt; | OperatingSystems &lt;dbl&gt; | Browser &lt;dbl&gt; | Region &lt;dbl&gt; | TrafficType &lt;dbl&gt; | VisitorType &lt;chr&gt; | Weekend &lt;lgl&gt; | Revenue &lt;lgl&gt; |\n",
       "|---|---|---|---|---|---|---|---|---|---|---|---|---|---|---|---|---|---|\n",
       "| 0 | 0 | 0 | 0 | 1 |  0 | 0.2 | 0.2 | 0 | 0 | Feb | 1 | 1 | 1 | 1 | Returning_Visitor | FALSE | FALSE |\n",
       "| 0 | 0 | 0 | 0 | 2 | 64 | 0.0 | 0.1 | 0 | 0 | Feb | 2 | 2 | 1 | 2 | Returning_Visitor | FALSE | FALSE |\n",
       "| 0 | 0 | 0 | 0 | 1 |  0 | 0.2 | 0.2 | 0 | 0 | Feb | 4 | 1 | 9 | 3 | Returning_Visitor | FALSE | FALSE |\n",
       "| ⋮ | ⋮ | ⋮ | ⋮ | ⋮ | ⋮ | ⋮ | ⋮ | ⋮ | ⋮ | ⋮ | ⋮ | ⋮ | ⋮ | ⋮ | ⋮ | ⋮ | ⋮ |\n",
       "| 0 |  0 | 0 | 0 |  6 | 184.25 | 0.08333333 | 0.08666667 | 0 | 0 | Nov | 3 | 2 | 1 | 13 | Returning_Visitor |  TRUE | FALSE |\n",
       "| 4 | 75 | 0 | 0 | 15 | 346.00 | 0.00000000 | 0.02105263 | 0 | 0 | Nov | 2 | 2 | 3 | 11 | Returning_Visitor | FALSE | FALSE |\n",
       "| 0 |  0 | 0 | 0 |  3 |  21.25 | 0.00000000 | 0.06666667 | 0 | 0 | Nov | 3 | 2 | 1 |  2 | New_Visitor       |  TRUE | FALSE |\n",
       "\n"
      ],
      "text/plain": [
       "      Administrative Administrative_Duration Informational\n",
       "1     0              0                       0            \n",
       "2     0              0                       0            \n",
       "3     0              0                       0            \n",
       "⋮     ⋮              ⋮                       ⋮            \n",
       "12328 0               0                      0            \n",
       "12329 4              75                      0            \n",
       "12330 0               0                      0            \n",
       "      Informational_Duration ProductRelated ProductRelated_Duration BounceRates\n",
       "1     0                      1               0                      0.2        \n",
       "2     0                      2              64                      0.0        \n",
       "3     0                      1               0                      0.2        \n",
       "⋮     ⋮                      ⋮              ⋮                       ⋮          \n",
       "12328 0                       6             184.25                  0.08333333 \n",
       "12329 0                      15             346.00                  0.00000000 \n",
       "12330 0                       3              21.25                  0.00000000 \n",
       "      ExitRates  PageValues SpecialDay Month OperatingSystems Browser Region\n",
       "1     0.2        0          0          Feb   1                1       1     \n",
       "2     0.1        0          0          Feb   2                2       1     \n",
       "3     0.2        0          0          Feb   4                1       9     \n",
       "⋮     ⋮          ⋮          ⋮          ⋮     ⋮                ⋮       ⋮     \n",
       "12328 0.08666667 0          0          Nov   3                2       1     \n",
       "12329 0.02105263 0          0          Nov   2                2       3     \n",
       "12330 0.06666667 0          0          Nov   3                2       1     \n",
       "      TrafficType VisitorType       Weekend Revenue\n",
       "1     1           Returning_Visitor FALSE   FALSE  \n",
       "2     2           Returning_Visitor FALSE   FALSE  \n",
       "3     3           Returning_Visitor FALSE   FALSE  \n",
       "⋮     ⋮           ⋮                 ⋮       ⋮      \n",
       "12328 13          Returning_Visitor  TRUE   FALSE  \n",
       "12329 11          Returning_Visitor FALSE   FALSE  \n",
       "12330  2          New_Visitor        TRUE   FALSE  "
      ]
     },
     "metadata": {},
     "output_type": "display_data"
    }
   ],
   "source": [
    "online_shoppers<-read_csv('Dataset/online_shoppers_intention.csv')\n",
    "online_shoppers"
   ]
  },
  {
   "cell_type": "markdown",
   "id": "5ab57517-84aa-4a9f-a8da-e8e93260c0e8",
   "metadata": {},
   "source": [
    "**III. Method**"
   ]
  },
  {
   "cell_type": "markdown",
   "id": "1313be4f-6964-47e8-b820-9791a8986338",
   "metadata": {},
   "source": [
    "Explain how you will conduct either your data analysis and which variables/columns you will use. \n",
    "Note - you do not need to use all variables/columns that exist in the raw data set. \n",
    "In fact, that's often not a good idea. For each variable think: is this a useful variable for prediction?\n",
    "\n",
    "Describe at least one way that you will visualize the results\n"
   ]
  },
  {
   "cell_type": "markdown",
   "id": "651e442c-bf2a-426e-8eb3-6805e0f984ac",
   "metadata": {},
   "source": [
    "**VI. Expected outcomes and significance**\n",
    "\n",
    "\n"
   ]
  },
  {
   "cell_type": "markdown",
   "id": "baf128ec-1fe0-4c33-9704-9f383d806178",
   "metadata": {},
   "source": [
    "What do you expect to find?\n",
    "\n",
    "What impact could such findings have?\n",
    "\n",
    "What future questions could this lead to?\n"
   ]
  },
  {
   "cell_type": "code",
   "execution_count": null,
   "id": "d3f524bf-03f9-4ac4-bd0d-a54912847cfe",
   "metadata": {},
   "outputs": [],
   "source": []
  }
 ],
 "metadata": {
  "kernelspec": {
   "display_name": "R",
   "language": "R",
   "name": "ir"
  },
  "language_info": {
   "codemirror_mode": "r",
   "file_extension": ".r",
   "mimetype": "text/x-r-source",
   "name": "R",
   "pygments_lexer": "r",
   "version": "4.1.3"
  }
 },
 "nbformat": 4,
 "nbformat_minor": 5
}
